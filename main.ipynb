{
  "cells": [
    {
      "cell_type": "code",
      "execution_count": 1,
      "metadata": {
        "colab": {
          "base_uri": "https://localhost:8080/"
        },
        "id": "8w7QvduNB-6G",
        "outputId": "21b6d437-da19-41bd-8966-114d6c15eee7"
      },
      "outputs": [
        {
          "output_type": "stream",
          "name": "stdout",
          "text": [
            "Downloading data from https://storage.googleapis.com/tensorflow/tf-keras-datasets/mnist.npz\n",
            "11493376/11490434 [==============================] - 0s 0us/step\n",
            "11501568/11490434 [==============================] - 0s 0us/step\n",
            "Training: (60000, 28, 28)\n",
            "Test: (10000, 28, 28)\n",
            "(60000, 784)\n"
          ]
        },
        {
          "output_type": "execute_result",
          "data": {
            "text/plain": [
              "0.8456"
            ]
          },
          "metadata": {},
          "execution_count": 1
        }
      ],
      "source": [
        "import numpy as np # 建立向量、矩陣等以進行高效率的大量資料運算\n",
        "import matplotlib.pyplot as plt # 資料視覺化（製作圖表）\n",
        "\n",
        "from collections import Counter # 提供特定目標的容器\n",
        "import math # 處理數學運算（不適用於複數計算，若有關複數需使用需使用 cmath）\n",
        "\n",
        "import tensorflow as tf # 機器學習大禮包\n",
        "from tensorflow.keras.datasets import mnist # mnist 手寫數字資料集\n",
        "(X_train, y_train), (X_test, y_test) = mnist.load_data() # 從 mnist 抓取資料 \n",
        "print(\"Training: \" + format(X_train.shape)) # 印出訓練資料大小\n",
        "print(\"Test: \" + format(X_test.shape)) # 印出測試資料大小\n",
        "\n",
        "X_train = X_train / 255. # 除以灰階最大值進行標準化\n",
        "X_train = np.where(X_train < 0.14, 0, 1) # 離散化，若小於 0.14 設為 0，大於 0.14 設為 1，讓照片只有 0 和 1，黑白更分明，去除灰灰的模糊區域\n",
        "\n",
        "\n",
        "X_train = X_train.reshape(len(X_train), -1) # 把二維的圖片變成一維\n",
        "print(X_train.shape) # 印出圖片格式大小\n",
        "\n",
        "totalNum = X_train.shape[0] # 找出總共有幾張照片(60000)\n",
        "classNumDic = Counter(y_train) # 排序並統計\n",
        "prioriP = np.empty(10)\n",
        "for i in range(10):\n",
        "  prioriP[i] = classNumDic[i]/totalNum  # 標準化，算出從 0 到 9 各自的數量佔所有圖片的比例\n",
        "\n",
        "posteriorNum = np.empty((10, X_train.shape[1])) # 建立一個 10*784 的陣列 posteriorNum\n",
        "posteriorP = np.empty((10, X_train.shape[1])) # 建立一個 10*784 的陣列 posteriorP\n",
        "\n",
        "for i in range(10):\n",
        "    posteriorNum[i] = X_train[np.where(y_train == i)].sum(axis=0) # 把所有標籤等於 i 的圖片加起來\n",
        "    posteriorP[i] = (posteriorNum[i] + 1) / (classNumDic[i] + 10) # 利用拉普拉斯平滑防止機率出現防止機率出現 0 的狀況\n",
        "\n",
        "\n",
        "def bayesClassifier(test_x, prioriP, posteriorP):\n",
        "    oldShape = test_x.shape # 記錄目前測試圖片大小\n",
        "    test_x.resize(oldShape[0]*oldShape[1]) # 重新排列成 784X1\n",
        "    classP = np.empty(10)\n",
        "    for j in range(10): # 跑過每一張照片\n",
        "        temp = 0\n",
        "        for x in range(test_x.shape[0]): # 跑過每一個像素（共784個）\n",
        "          # 取log讓值不會太大避免爆炸，所以公式中本來相乘的情況變成相加\n",
        "          if test_x[x] == 0: # 背景（黑色處）\n",
        "            temp += math.log(1-posteriorP[j][x]) # 因為之前都是對等於１的地方做平均，沒有對等於０的地方做平均，但離散化後的像素非１即０，所以用「１」減掉「等於１的機率」就是「等於０的機率」\n",
        "          if test_x[x] == 1: # 線（白色處）\n",
        "            temp += math.log(posteriorP[j][x])\n",
        "        classP[j] = np.array(math.log(prioriP[j]) + temp) # 情況的機率乘以情況下各特徵的機率\n",
        "    test_x.resize(oldShape) # 變回 28X28 的格式\n",
        "    return np.argmax(classP) # 取機率最大的情況\n",
        "\n",
        "def bayesClassifierProb(test_x, prioriP, posteriorP):\n",
        "    oldShape = test_x.shape # 記錄目前測試圖片大小\n",
        "    test_x.resize(oldShape[0]*oldShape[1]) # 重新排列成 784X1\n",
        "    classP = np.empty(10)\n",
        "    for j in range(10): # 跑過每一張照片\n",
        "        temp = 0\n",
        "        for x in range(test_x.shape[0]): # 跑過每一個像素（共784個）\n",
        "          # 取log讓值不會太大避免爆炸，所以公式中本來相乘的情況變成相加\n",
        "          if test_x[x] == 0: # 背景（黑色處）\n",
        "            temp += math.log(1-posteriorP[j][x]) # 因為之前都是對等於１的地方做平均，沒有對等於０的地方做平均，但離散化後的像素非１即０，所以用「１」減掉「等於１的機率」就是「等於０的機率」\n",
        "          if test_x[x] == 1: # 線（白色處）\n",
        "            temp += math.log(posteriorP[j][x])\n",
        "        classP[j] = np.array(math.log(prioriP[j]) + temp) # 情況的機率乘以情況下各特徵的機率\n",
        "    test_x.resize(oldShape) # 變回 28X28 的格式\n",
        "    return classP # 取機率最大的情況\n",
        "\n",
        "X_test = X_test/255. # 除以灰階最大值進行標準化\n",
        "X_test = np.where(X_test < 0.14, 0, 1) # 離散化，若小於 0.14 設為 0，大於 0.14 設為 1，讓照片只有 0 和 1，黑白更分明，去除灰灰的模糊區域\n",
        "\n",
        "bayesClassifierRes = np.empty(X_test.shape[0]) # 算出在 X_test 中有幾筆資料(10000)\n",
        "for i in range(X_test.shape[0]): # 跑過每一張測試圖片\n",
        "    bayesClassifierRes[i] = bayesClassifier(X_test[i], prioriP, posteriorP) # 丟進貝氏分類器\n",
        "\n",
        "(bayesClassifierRes == y_test).sum() / y_test.shape[0] # 將「經過貝氏分類器預測出的標籤與真實標籤是一樣的情況」的數量，除以「總共有幾張照片」，算出正確率"
      ]
    },
    {
      "cell_type": "code",
      "execution_count": 2,
      "metadata": {
        "colab": {
          "base_uri": "https://localhost:8080/"
        },
        "id": "1SRvxSiHfa1C",
        "outputId": "71bf4cc5-9a3c-4edd-9847-876830d3973d"
      },
      "outputs": [
        {
          "output_type": "stream",
          "name": "stdout",
          "text": [
            "Training: (60000, 28, 28)\n",
            "Test: (10000, 28, 28)\n",
            "(60000, 784)\n",
            "10\n",
            "[6 7 8 1 0 5 1 6 1 3 6 1 6 2 1 3 5 3 2 3]\n",
            "[3 0 4 1 7 2 1 3 1 8 3 1 3 6 1 8 2 8 6 8]\n",
            "[5 0 4 1 9 2 1 3 1 4 3 5 3 6 1 7 2 8 6 9]\n",
            "Accuracy: 0.5702\n"
          ]
        }
      ],
      "source": [
        "import sys # 執行環境的變數和函數的模組\n",
        "import sklearn # 機器學習工具箱箱\n",
        "import numpy as np # 建立向量、矩陣等以進行高效率的大量資料運算\n",
        "import matplotlib.pyplot as plt # 資料視覺化（製作圖表）\n",
        "from sklearn.metrics import accuracy_score # 在評估性能的各種測試方式中，計算精確度（匹配程度）\n",
        "import tensorflow as tf # 機器學習大禮包\n",
        "from tensorflow.keras.datasets import mnist\n",
        "\n",
        "(X_train, y_train), (X_test, y_test) = mnist.load_data() # 從 mnist 抓取資料 \n",
        "\n",
        "print(\"Training: \" + format(X_train.shape)) # 印出訓練資料大小\n",
        "print(\"Test: \" + format(X_test.shape)) # 印出測試資料大小\n",
        "\n",
        "X_train = X_train.reshape(len(X_train), -1)\n",
        "print(X_train.shape) # 印出圖片格式大小\n",
        "\n",
        "X_train = X_train.astype(np.float32) / 255.\n",
        "\n",
        "from sklearn.cluster import MiniBatchKMeans # K-Means工具箱箱\n",
        "\n",
        "n_digits = len(np.unique(y_train))\n",
        "print(n_digits) # 印出去除重複資料後剩下的資料數量\n",
        "\n",
        "kmeans = MiniBatchKMeans(n_clusters = n_digits)  # 請 MiniBatchKMeans 把資料分成 n_digit 群 (10群)\n",
        "kmeans.fit(X_train) # 使用 X_train 開始訓練！\n",
        "\n",
        "kmeans.labels_  # K-Means 分類器初步產生的標籤\n",
        "\n",
        "def infer_cluster_labels(kmeans, actual_labels): # 幫每個分群找到最大共同特徵\n",
        "\n",
        "    inferred_labels = {}  # 最後要回傳的字典\n",
        "\n",
        "    for i in range(kmeans.n_clusters): # 跑過每個分群 \n",
        "\n",
        "        labels = [] # 儲存所有位置的列表\n",
        "        index = np.where(kmeans.labels_ == i) \n",
        "\n",
        "        labels.append(actual_labels[index]) # 把在剛剛找出的位置上的真實標籤放進列表\n",
        "\n",
        "        if len(labels[0]) == 1: \n",
        "            counts = np.bincount(labels[0])\n",
        "        else:\n",
        "            counts = np.bincount(np.squeeze(labels))\n",
        "\n",
        "        if np.argmax(counts) in inferred_labels:\n",
        "            inferred_labels[np.argmax(counts)].append(i)\n",
        "        else:\n",
        "            inferred_labels[np.argmax(counts)] = [i]\n",
        "        \n",
        "    return inferred_labels # 回傳分好的字典\n",
        "\n",
        "\n",
        "def infer_data_labels(X_labels, cluster_labels): # 幫分群找到對應的標籤\n",
        "    \n",
        "    predicted_labels = np.zeros(len(X_labels)).astype(np.uint8) # 最後要回傳的標籤列表\n",
        "    \n",
        "    for i, cluster in enumerate(X_labels): # 跑過所有預測的分群\n",
        "        for key, value in cluster_labels.items(): # 跑過字典的所有內容\n",
        "            if cluster  in value: # 如果遇到相同的圖片\n",
        "                predicted_labels[i] = key # 把真實標籤記下來存進標籤列表\n",
        "                \n",
        "    return predicted_labels # 回傳對應好的標籤列表\n",
        "\n",
        "\n",
        "cluster_labels = infer_cluster_labels(kmeans, y_train) # 利用訓練好的小堆和 mnist 的訓練標籤製作字典\n",
        "X_clusters = kmeans.predict(X_train) # 利用 mnist 的訓練圖片預測分群\n",
        "predicted_labels = infer_data_labels(X_clusters, cluster_labels) # 利用預測好的分群和製作好的字典進行配對\n",
        "print(X_clusters[:20])\n",
        "print(predicted_labels[:20])\n",
        "print(y_train[:20])\n",
        "\n",
        "X_test = X_test.reshape(len(X_test), -1) # 把二維的測試資料變成一維\n",
        "X_test = X_test.astype(np.float32) / 255. # 除以灰階最大值進行標準化\n",
        "\n",
        "\n",
        "kmeans = MiniBatchKMeans(n_clusters = 10) # 請 MiniBatchKMeans 把資料分成 n_digit 群 (10群)\n",
        "kmeans.fit(X_test) # 使用 X_test 開始測試！\n",
        "\n",
        "centroids = kmeans.cluster_centers_ # 找到分群的中心們\n",
        "\n",
        "images = centroids.copy() # 複製一份中心來改變格式，以免之後發生遺憾的事\n",
        "images = images.reshape(10, 28, 28) # 把照片變成十張，每張是 28X28 像素\n",
        "images *= 255\n",
        "images = images.astype(np.uint8) # 把型態設為整數\n",
        "\n",
        "cluster_labels = infer_cluster_labels(kmeans, y_test) # 利用訓練好的小堆和 mnist 的測試標籤製作字典\n",
        "prediction = infer_data_labels(kmeans.predict(X_test), cluster_labels) # 利用預測好的分群和製作好的字典進行配對\n",
        "\n",
        "print('Accuracy: ' + format(accuracy_score(y_test, prediction))) # 印出預測準確率"
      ]
    },
    {
      "cell_type": "code",
      "execution_count": 3,
      "metadata": {
        "colab": {
          "base_uri": "https://localhost:8080/"
        },
        "id": "kJjeHWNMEpj7",
        "outputId": "c8a028e7-6121-4fc8-de42-33bdb2624f94"
      },
      "outputs": [
        {
          "output_type": "stream",
          "name": "stdout",
          "text": [
            "Looking in indexes: https://pypi.org/simple, https://us-python.pkg.dev/colab-wheels/public/simple/\n",
            "Collecting flask-ngrok\n",
            "  Downloading flask_ngrok-0.0.25-py3-none-any.whl (3.1 kB)\n",
            "Requirement already satisfied: Flask>=0.8 in /usr/local/lib/python3.7/dist-packages (from flask-ngrok) (1.1.4)\n",
            "Requirement already satisfied: requests in /usr/local/lib/python3.7/dist-packages (from flask-ngrok) (2.23.0)\n",
            "Requirement already satisfied: itsdangerous<2.0,>=0.24 in /usr/local/lib/python3.7/dist-packages (from Flask>=0.8->flask-ngrok) (1.1.0)\n",
            "Requirement already satisfied: Jinja2<3.0,>=2.10.1 in /usr/local/lib/python3.7/dist-packages (from Flask>=0.8->flask-ngrok) (2.11.3)\n",
            "Requirement already satisfied: click<8.0,>=5.1 in /usr/local/lib/python3.7/dist-packages (from Flask>=0.8->flask-ngrok) (7.1.2)\n",
            "Requirement already satisfied: Werkzeug<2.0,>=0.15 in /usr/local/lib/python3.7/dist-packages (from Flask>=0.8->flask-ngrok) (1.0.1)\n",
            "Requirement already satisfied: MarkupSafe>=0.23 in /usr/local/lib/python3.7/dist-packages (from Jinja2<3.0,>=2.10.1->Flask>=0.8->flask-ngrok) (2.0.1)\n",
            "Requirement already satisfied: urllib3!=1.25.0,!=1.25.1,<1.26,>=1.21.1 in /usr/local/lib/python3.7/dist-packages (from requests->flask-ngrok) (1.24.3)\n",
            "Requirement already satisfied: chardet<4,>=3.0.2 in /usr/local/lib/python3.7/dist-packages (from requests->flask-ngrok) (3.0.4)\n",
            "Requirement already satisfied: certifi>=2017.4.17 in /usr/local/lib/python3.7/dist-packages (from requests->flask-ngrok) (2022.6.15)\n",
            "Requirement already satisfied: idna<3,>=2.5 in /usr/local/lib/python3.7/dist-packages (from requests->flask-ngrok) (2.10)\n",
            "Installing collected packages: flask-ngrok\n",
            "Successfully installed flask-ngrok-0.0.25\n",
            "Looking in indexes: https://pypi.org/simple, https://us-python.pkg.dev/colab-wheels/public/simple/\n",
            "Collecting pyngrok==4.1.1\n",
            "  Downloading pyngrok-4.1.1.tar.gz (18 kB)\n",
            "Requirement already satisfied: future in /usr/local/lib/python3.7/dist-packages (from pyngrok==4.1.1) (0.16.0)\n",
            "Requirement already satisfied: PyYAML in /usr/local/lib/python3.7/dist-packages (from pyngrok==4.1.1) (3.13)\n",
            "Building wheels for collected packages: pyngrok\n",
            "  Building wheel for pyngrok (setup.py) ... \u001b[?25l\u001b[?25hdone\n",
            "  Created wheel for pyngrok: filename=pyngrok-4.1.1-py3-none-any.whl size=15983 sha256=4eccf7578426d3b67b7d09262485cd9acec98a097283000dc404fb95df621674\n",
            "  Stored in directory: /root/.cache/pip/wheels/b1/d9/12/045a042fee3127dc40ba6f5df2798aa2df38c414bf533ca765\n",
            "Successfully built pyngrok\n",
            "Installing collected packages: pyngrok\n",
            "Successfully installed pyngrok-4.1.1\n",
            "Authtoken saved to configuration file: /root/.ngrok2/ngrok.yml\n"
          ]
        }
      ],
      "source": [
        "!pip install flask-ngrok\n",
        "\n",
        "!pip install pyngrok==4.1.1\n",
        "\n",
        "!ngrok authtoken 'your own ngrok token'\n",
        "\n",
        "!mkdir templates"
      ]
    },
    {
      "cell_type": "code",
      "execution_count": 4,
      "metadata": {
        "colab": {
          "base_uri": "https://localhost:8080/"
        },
        "id": "cecdtmh2_FZR",
        "outputId": "5e221afc-dda2-4851-b756-f5b53a134fc9"
      },
      "outputs": [
        {
          "output_type": "stream",
          "name": "stdout",
          "text": [
            "NAME:\n",
            "   ngrok - tunnel local ports to public URLs and inspect traffic\n",
            "\n",
            "DESCRIPTION:\n",
            "    ngrok exposes local networked services behinds NATs and firewalls to the\n",
            "    public internet over a secure tunnel. Share local websites, build/test\n",
            "    webhook consumers and self-host personal services.\n",
            "    Detailed help for each command is available with 'ngrok help <command>'.\n",
            "    Open http://localhost:4040 for ngrok's web interface to inspect traffic.\n",
            "\n",
            "EXAMPLES:\n",
            "    ngrok http 80                    # secure public URL for port 80 web server\n",
            "    ngrok http -subdomain=baz 8080   # port 8080 available at baz.ngrok.io\n",
            "    ngrok http foo.dev:80            # tunnel to host:port instead of localhost\n",
            "    ngrok http https://localhost     # expose a local https server\n",
            "    ngrok tcp 22                     # tunnel arbitrary TCP traffic to port 22\n",
            "    ngrok tls -hostname=foo.com 443  # TLS traffic for foo.com to port 443\n",
            "    ngrok start foo bar baz          # start tunnels from the configuration file\n",
            "\n",
            "VERSION:\n",
            "   2.3.40\n",
            "\n",
            "AUTHOR:\n",
            "  inconshreveable - <alan@ngrok.com>\n",
            "\n",
            "COMMANDS:\n",
            "   authtoken\tsave authtoken to configuration file\n",
            "   credits\tprints author and licensing information\n",
            "   http\t\tstart an HTTP tunnel\n",
            "   start\tstart tunnels by name from the configuration file\n",
            "   tcp\t\tstart a TCP tunnel\n",
            "   tls\t\tstart a TLS tunnel\n",
            "   update\tupdate ngrok to the latest version\n",
            "   version\tprint the version string\n",
            "   help\t\tShows a list of commands or help for one command\n",
            "\n",
            "PYNGROK VERSION:\n",
            "   4.1.1\n"
          ]
        }
      ],
      "source": [
        "!ngrok help"
      ]
    },
    {
      "cell_type": "code",
      "execution_count": 5,
      "metadata": {
        "colab": {
          "base_uri": "https://localhost:8080/"
        },
        "id": "bCXX7rluMH28",
        "outputId": "cfdb399e-7127-46f4-e2a6-24340bbb118f"
      },
      "outputs": [
        {
          "output_type": "stream",
          "name": "stdout",
          "text": [
            " * Serving Flask app \"__main__\" (lazy loading)\n",
            " * Environment: production\n",
            "\u001b[31m   WARNING: This is a development server. Do not use it in a production deployment.\u001b[0m\n",
            "\u001b[2m   Use a production WSGI server instead.\u001b[0m\n",
            " * Debug mode: off\n"
          ]
        },
        {
          "output_type": "stream",
          "name": "stderr",
          "text": [
            " * Running on http://127.0.0.1:5000/ (Press CTRL+C to quit)\n"
          ]
        },
        {
          "output_type": "stream",
          "name": "stdout",
          "text": [
            " * Running on http://f0d4-35-245-180-249.ngrok.io\n",
            " * Traffic stats available on http://127.0.0.1:4040\n"
          ]
        },
        {
          "output_type": "stream",
          "name": "stderr",
          "text": [
            "127.0.0.1 - - [26/Jul/2022 18:11:00] \"\u001b[37mGET / HTTP/1.1\u001b[0m\" 200 -\n",
            "127.0.0.1 - - [26/Jul/2022 18:11:00] \"\u001b[33mGET /favicon.ico HTTP/1.1\u001b[0m\" 404 -\n",
            "127.0.0.1 - - [26/Jul/2022 18:11:06] \"\u001b[37mPOST / HTTP/1.1\u001b[0m\" 200 -\n"
          ]
        },
        {
          "output_type": "stream",
          "name": "stdout",
          "text": [
            "process done\n"
          ]
        },
        {
          "output_type": "stream",
          "name": "stderr",
          "text": [
            "127.0.0.1 - - [26/Jul/2022 18:12:23] \"\u001b[37mPOST / HTTP/1.1\u001b[0m\" 200 -\n"
          ]
        },
        {
          "output_type": "stream",
          "name": "stdout",
          "text": [
            "process done\n"
          ]
        },
        {
          "output_type": "stream",
          "name": "stderr",
          "text": [
            "127.0.0.1 - - [26/Jul/2022 18:12:40] \"\u001b[37mGET / HTTP/1.1\u001b[0m\" 200 -\n",
            "127.0.0.1 - - [26/Jul/2022 18:12:50] \"\u001b[37mGET / HTTP/1.1\u001b[0m\" 200 -\n",
            "127.0.0.1 - - [26/Jul/2022 18:12:57] \"\u001b[37mPOST / HTTP/1.1\u001b[0m\" 200 -\n"
          ]
        },
        {
          "output_type": "stream",
          "name": "stdout",
          "text": [
            "process done\n"
          ]
        },
        {
          "output_type": "stream",
          "name": "stderr",
          "text": [
            "127.0.0.1 - - [26/Jul/2022 18:13:02] \"\u001b[37mPOST / HTTP/1.1\u001b[0m\" 200 -\n"
          ]
        },
        {
          "output_type": "stream",
          "name": "stdout",
          "text": [
            "process done\n"
          ]
        },
        {
          "output_type": "stream",
          "name": "stderr",
          "text": [
            "127.0.0.1 - - [26/Jul/2022 18:13:06] \"\u001b[37mPOST / HTTP/1.1\u001b[0m\" 200 -\n"
          ]
        },
        {
          "output_type": "stream",
          "name": "stdout",
          "text": [
            "process done\n"
          ]
        }
      ],
      "source": [
        "import os\n",
        "import cv2\n",
        "import base64\n",
        "import urllib.request\n",
        "from flask import Flask, render_template, request\n",
        "from flask_ngrok import run_with_ngrok\n",
        "import numpy as np\n",
        "from matplotlib import pyplot as plt\n",
        "\n",
        "import warnings\n",
        "warnings.filterwarnings(\"ignore\", category=DeprecationWarning) \n",
        "\n",
        "target_url = \"https://raw.githubusercontent.com/jotpalch/Digit_Recog_App/main/flask_app.html\"\n",
        "html = urllib.request.urlopen(target_url).read().decode(\"utf-8\") \n",
        "\n",
        "HTML_file = open('templates/index.html', 'w')\n",
        "HTML_file.write(html)\n",
        "HTML_file.close()\n",
        "\n",
        "app = Flask(__name__, static_folder='/templates')\n",
        "run_with_ngrok(app)\n",
        "\n",
        "def process(file):\n",
        "    \n",
        "    file = base64.b64decode(file)  \n",
        "    img_array = np.fromstring(file,np.uint8) \n",
        "    image = cv2.imdecode(img_array,cv2.COLOR_BGR2RGB)  \n",
        "    image = cv2.cvtColor(image, cv2.COLOR_BGR2GRAY)\n",
        "    image = cv2.resize(image, (28, 28))\n",
        "    image = image/255.0\n",
        "    image = 1-image\n",
        "    return image\n",
        "\n",
        "@app.route('/')\n",
        "def index():\n",
        "    return render_template('index.html')\n",
        "\n",
        "@app.route('/', methods=['GET', 'POST'])\n",
        "def predict():\n",
        "    if request.method == 'POST':\n",
        "        t = request.values.get('type')\n",
        "\n",
        "        image = process(request.values.get('payload').replace(\"data:image/jpeg;base64,\",\"\"))\n",
        "        # print(request.values.get('payload').replace(\"data:image/jpeg;base64,\",\"\"))\n",
        "        print('process done')\n",
        "        prediction = \"X\"\n",
        "        if t == \"n\" :\n",
        "          image = np.where(image < 0.14, 0, 1)\n",
        "          prediction = bayesClassifier(image, prioriP, posteriorP)\n",
        "          predictionProb = bayesClassifierProb(image, prioriP, posteriorP)\n",
        "        elif t == \"k\" :\n",
        "          image = np.array([image]).astype(np.float32).reshape(1, -1)\n",
        "          prediction = infer_data_labels(kmeans.predict(image), cluster_labels)[0]\n",
        "       \n",
        "        return render_template('index.html', number=prediction )\n",
        "\n",
        "if __name__ == '__main__':\n",
        "    app.run()"
      ]
    }
  ],
  "metadata": {
    "colab": {
      "collapsed_sections": [],
      "name": "DAY3.ipynb",
      "provenance": []
    },
    "kernelspec": {
      "display_name": "Python 3",
      "name": "python3"
    },
    "language_info": {
      "name": "python"
    }
  },
  "nbformat": 4,
  "nbformat_minor": 0
}